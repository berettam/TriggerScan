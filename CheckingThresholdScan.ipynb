{
 "cells": [
  {
   "cell_type": "code",
   "execution_count": 2,
   "metadata": {},
   "outputs": [],
   "source": [
    "# Import the various modules\n",
    "%run ImportYupNotebook.ipynb\n",
    "import glob\n",
    "import os\n",
    "\n",
    "import csv"
   ]
  },
  {
   "cell_type": "code",
   "execution_count": 3,
   "metadata": {},
   "outputs": [],
   "source": [
    "#path information common to all the code\n",
    "OrPath = 'H:/My Drive/2023_CCVRUSA_LSC/Analysis/ThresholdScan/'\n",
    "# load the run db\n",
    "rundata = pd.read_csv('H:/My Drive/2023_CCVRUSA_LSC/Analysis/RunList.csv')\n",
    "Runs = rundata[rundata.Include==1].Run.to_numpy()\n",
    "RunsDAQ = rundata[rundata.Include==1]['RunCrossDAQ'].to_numpy()\n",
    "Runs = [950035]# Runs[np.argsort(RunsDAQ)]\n"
   ]
  },
  {
   "cell_type": "code",
   "execution_count": 4,
   "metadata": {},
   "outputs": [],
   "source": [
    "#channel names/ codes\n",
    "# detector mapping\n",
    "DetMap = pd.read_csv('H:/My Drive/2023_CCVRUSA_LSC/Analysis/ChannelsList.csv')\n",
    "\n",
    "Channels = DetMap.Channel.to_numpy()\n",
    "Names = DetMap.Name.to_numpy()\n",
    "CHNameMap = {Channels[i]: Names[i] for i in range(len(Channels))}\n",
    "\n",
    "AvailChannels = [3,4,5,6,7,8,9,10,11,12,13,14,15,16,17,18,19,20]#[3,4,5,6,7,8,9,10,11,12,13,14,15,16,17,18,19,20]#Channels[2:-2]\n",
    "AvailLDs = [n for n in AvailChannels if DetMap.Sensor[DetMap.Channel==n].to_numpy()[0]==\"Light\" ]\n",
    "AvailHDs = [n for n in AvailChannels if DetMap.Sensor[DetMap.Channel==n].to_numpy()[0]==\"Heat\" ]\n"
   ]
  },
  {
   "attachments": {},
   "cell_type": "markdown",
   "metadata": {},
   "source": [
    "# get current THs from SB"
   ]
  },
  {
   "cell_type": "code",
   "execution_count": 5,
   "metadata": {},
   "outputs": [],
   "source": [
    "sb = {}\n",
    "sb[950023] = pd.read_csv('H:/My Drive/2023_CCVRUSA_LSC/Analysis/SettingsBasket/20230302_sbOptDebAvgTrig_100mHz_ModCH12.csv').sort_values('id')\n",
    "sb[950024] = pd.read_csv('H:/My Drive/2023_CCVRUSA_LSC/Analysis/SettingsBasket/20230302_sbOptDebAvgTrig_100mHz_ModCH12.csv').sort_values('id')\n",
    "sb[950029] = pd.read_csv('H:/My Drive/2023_CCVRUSA_LSC/Analysis/SettingsBasket/sb79.csv').sort_values('id')\n",
    "sb[950033] = pd.read_csv('H:/My Drive/2023_CCVRUSA_LSC/Analysis/SettingsBasket/Run740_FromSB81_NewTHs.csv').sort_values('id')\n",
    "\n",
    "sb[950037] = pd.read_csv('H:/My Drive/2023_CCVRUSA_LSC/Analysis/SettingsBasket/sb83.csv').sort_values('id')\n",
    "sb[950035] = pd.read_csv('H:/My Drive/2023_CCVRUSA_LSC/Analysis/SettingsBasket/sb86.csv').sort_values('id')\n",
    "sb[950040] = pd.read_csv('H:/My Drive/2023_CCVRUSA_LSC/Analysis/SettingsBasket/sb83.csv').sort_values('id')"
   ]
  },
  {
   "attachments": {},
   "cell_type": "markdown",
   "metadata": {},
   "source": [
    "# Get Scans from TXT"
   ]
  },
  {
   "cell_type": "code",
   "execution_count": 6,
   "metadata": {},
   "outputs": [],
   "source": [
    "#list of files\n",
    "#reading and saving the output into a dataframe\n",
    "column_names = [\"Run\", \"Channel\", \"THs\",\"Rates\"]\n",
    "\n",
    "AllScans = pd.DataFrame(columns = column_names)\n",
    "\n",
    "\n",
    "#reading and saving the output into a dataframe\n",
    "for run in Runs:\n",
    "  for ch in [12,16]: #AvailHDs:#AvailChannels:\n",
    "    # file to be read\n",
    "    # file to be read\n",
    "    \n",
    "    f = OrPath+'/run{:d}_Deb60/ScanTHs_run{:d}_CH{:d}.txt'.format(run,run,ch)\n",
    "\n",
    "    #read the scan\n",
    "    my_data = pd.read_csv(f)\n",
    "    ths = my_data.Threshold.to_numpy()\n",
    "    rate = my_data.Rate.to_numpy()\n",
    "    \n",
    "    #filling the df\n",
    "    el = [run,ch,ths,rate] \n",
    "    ss = pd.DataFrame([el],columns = column_names)\n",
    "    AllScans = AllScans.append(ss);\n"
   ]
  },
  {
   "attachments": {},
   "cell_type": "markdown",
   "metadata": {},
   "source": [
    "# Draw the Rate vs Threshold plots\n",
    "comparing each channel on the different configurations"
   ]
  },
  {
   "cell_type": "code",
   "execution_count": 14,
   "metadata": {},
   "outputs": [],
   "source": [
    "cmap = plt.cm.get_cmap('jet')\n",
    "for ch in [12]:#]AvailHDs: #[20]:# [10]:#\n",
    "  fig, ax = plt.subplots(1)  \n",
    "  #plot the current SB threshold\n",
    "  currth = sb[run][sb[run].id==ch]['deriv. trg threshold'].values[0]            \n",
    "  ax.axvspan(currth-0.005, currth+0.005, facecolor='r', alpha=1,label = 'Current TH')\n",
    "  for it,run in enumerate(Runs):\n",
    "    \n",
    "    selsp = np.logical_and(np.equal(AllScans.Run.to_numpy(),run) , np.equal(AllScans.Channel,ch))\n",
    "\n",
    "    if np.sum(selsp)>0:\n",
    "        ths = AllScans[selsp].THs.values[0]\n",
    "        rates = AllScans[selsp].Rates.values[0]\n",
    "        #plot\n",
    "        ax.errorbar(ths,rates,yerr=0,xerr=0,\n",
    "                              color = cmap(it/np.size(Runs)),\n",
    "                              marker='o', fmt = '',linestyle='',label=\"Run {:d} \".format(run),ms = 4)\n",
    "\n",
    "        \n",
    "        \n",
    "        # ax.axvspan(currth, currth, facecolor='r', alpha=1,label = 'Current TH')\n",
    "        ax.set( yscale='log',\n",
    "                xscale='log',\n",
    "                xlabel = 'Threshold',\n",
    "                ylabel = 'Rate [Hz]',\n",
    "                title = f'Channel {ch} ' + CHNameMap[ch],\n",
    "                xlim = [np.min(ths),np.max(ths)])#np.max(freqs)])np.min(ths)\n",
    "  ax.legend(loc='best',prop={'size': 6})\n",
    "  \n",
    "  # ax.figure.savefig(OrPath+r'/Plots/ANPS_AP_Comparison_CH{:d}.png'.format(ch),dpi=600)  \n",
    "#   ax.figure.savefig(OrPath+r'/Plot/ANPS_Comparison_CH{:d}.png'.format(ch),dpi=600)  "
   ]
  },
  {
   "attachments": {},
   "cell_type": "markdown",
   "metadata": {},
   "source": [
    "Checkignt the db scan for CH 12"
   ]
  },
  {
   "cell_type": "code",
   "execution_count": 7,
   "metadata": {},
   "outputs": [],
   "source": [
    "Averages=[2,6,10,20,40,60]\n",
    "Debounces = [2,4,6,8,10]\n",
    "\n",
    "MarkerDebounce = {}\n",
    "MarkerDebounce[2] = 'o'\n",
    "MarkerDebounce[4] = '+'\n",
    "MarkerDebounce[6] = 'v'\n",
    "MarkerDebounce[8] = 's'\n",
    "MarkerDebounce[10] = '^'\n",
    "\n",
    "ColAvgs = {}\n",
    "ColAvgs[100] = 'tab:blue'\n",
    "ColAvgs[80] = 'tab:orange'\n",
    "ColAvgs[60] = 'tab:green'\n",
    "ColAvgs[40] = 'tab:red'\n",
    "ColAvgs[20] = 'tab:purple'\n",
    "ColAvgs[10] = 'tab:gray'\n",
    "ColAvgs[6] = 'tab:pink'\n",
    "ColAvgs[2] = 'turquoise'\n",
    "\n",
    "OrPathScan = 'H:/My Drive/2023_CCVRUSA_LSC/Analysis/ThresholdScan/TrigScan_MultiSpace/'"
   ]
  },
  {
   "cell_type": "code",
   "execution_count": 11,
   "metadata": {},
   "outputs": [],
   "source": [
    "column_names = [\"Run\", \"Channel\", \"THs\",\"Rates\",\"Average\",\"Debounce\"]\n",
    "\n",
    "AllScans = pd.DataFrame(columns = column_names)\n",
    "for ch in [12,14,16,18,20]:\n",
    "  for av in Averages:\n",
    "    for db in Debounces:\n",
    "      f = OrPathScan+f'Avg{av:.0f}/Deb{db:.0f}/run950035/ScanTHs_run950035_CH{ch}.txt'\n",
    "\n",
    "      #read the scan\n",
    "      my_data = pd.read_csv(f)\n",
    "      ths = my_data.Threshold.to_numpy()\n",
    "      rate = my_data.Rate.to_numpy()\n",
    "      \n",
    "      #filling the df\n",
    "      el = [950035,ch,ths,rate,av,db] \n",
    "      ss = pd.DataFrame([el],columns = column_names)\n",
    "      AllScans = AllScans.append(ss);"
   ]
  },
  {
   "cell_type": "code",
   "execution_count": 12,
   "metadata": {},
   "outputs": [],
   "source": [
    "plotsavg = {av: plt.subplots(1) for av in Averages}\n",
    "plotsdb = {db: plt.subplots(1) for db in Debounces}\n",
    "fig, ax = plt.subplots(1)  \n",
    "cmap = plt.cm.get_cmap('jet')\n",
    "ch = 14\n",
    "\n",
    "\n",
    "\n",
    "for av in Averages:\n",
    "  for db in Debounces:\n",
    "  \n",
    "    selsp = np.logical_and.reduce((np.equal(AllScans.Debounce.to_numpy(),db), \n",
    "                                   np.equal(AllScans.Average.to_numpy(),av), \n",
    "                                   np.equal(AllScans.Channel,ch)))\n",
    "\n",
    "    if np.sum(selsp)>0:\n",
    "      ths = AllScans[selsp].THs.values[0]\n",
    "      rates = AllScans[selsp].Rates.values[0]\n",
    "      #plot\n",
    "      ax.errorbar(ths*av,rates,yerr=0,xerr=0,color = ColAvgs[av],\n",
    "                            marker=MarkerDebounce[db], fmt = '',linestyle='',label=f\"Avg {av} - Deb {db} \",ms = 4)\n",
    "      plotsavg[av][0].axes[0].errorbar(ths*av,rates,yerr=0,xerr=0,color = ColAvgs[av],\n",
    "                            marker=MarkerDebounce[db], fmt = '',linestyle='',label=f\"Avg {av} - Deb {db} \",ms = 4)\n",
    "      plotsdb[db][0].axes[0].errorbar(ths*av,rates,yerr=0,xerr=0,color = ColAvgs[av],\n",
    "                            marker=MarkerDebounce[db], fmt = '',linestyle='',label=f\"Avg {av} - Deb {db} \",ms = 4)\n",
    "    \n",
    "    \n",
    "        \n",
    "ax.set( yscale='log',\n",
    "        xscale='log',\n",
    "        xlabel = 'Threshold',\n",
    "        ylabel = 'Rate [Hz]',\n",
    "        title = f'Channel {ch} ' + CHNameMap[ch])\n",
    "ax.legend(loc='best',prop={'size': 6})\n",
    "\n",
    "for av in plotsavg:\n",
    "  \n",
    "  plotsavg[av][0].axes[0].set( yscale='log',\n",
    "          xscale='log',\n",
    "          xlabel = 'Threshold',\n",
    "          ylabel = 'Rate [Hz]',\n",
    "          title = f'Channel {ch} ' + CHNameMap[ch])\n",
    "  plotsavg[av][0].axes[0].legend(loc='best',prop={'size': 6})\n",
    "for db in plotsdb:\n",
    "  \n",
    "  plotsdb[db][0].axes[0].set( yscale='log',\n",
    "          xscale='log',\n",
    "          xlabel = 'Threshold',\n",
    "          ylabel = 'Rate [Hz]',\n",
    "          title = f'Channel {ch} ' + CHNameMap[ch])\n",
    "  plotsdb[db][0].axes[0].legend(loc='best',prop={'size': 6})"
   ]
  },
  {
   "cell_type": "code",
   "execution_count": null,
   "metadata": {},
   "outputs": [],
   "source": []
  }
 ],
 "metadata": {
  "kernelspec": {
   "display_name": "Python 3.8.8 ('base')",
   "language": "python",
   "name": "python3"
  },
  "language_info": {
   "codemirror_mode": {
    "name": "ipython",
    "version": 3
   },
   "file_extension": ".py",
   "mimetype": "text/x-python",
   "name": "python",
   "nbconvert_exporter": "python",
   "pygments_lexer": "ipython3",
   "version": "3.8.8"
  },
  "orig_nbformat": 4,
  "vscode": {
   "interpreter": {
    "hash": "ad2bdc8ecc057115af97d19610ffacc2b4e99fae6737bb82f5d7fb13d2f2c186"
   }
  }
 },
 "nbformat": 4,
 "nbformat_minor": 2
}
