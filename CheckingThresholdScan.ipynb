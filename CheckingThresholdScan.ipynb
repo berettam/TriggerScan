{
 "cells": [
  {
   "cell_type": "code",
   "execution_count": 1,
   "metadata": {},
   "outputs": [],
   "source": [
    "# Import the various modules\n",
    "import uproot;\n",
    "import pandas as pd;\n",
    "import numpy as np\n",
    "import matplotlib.pyplot as plt\n",
    "import histlite as hl\n",
    "import math\n",
    "from scipy.stats import poisson\n",
    "from pathlib import Path\n",
    "import pickle as pl\n",
    "import sys\n",
    "import glob\n",
    "\n",
    "from iminuit import cost,Minuit\n",
    "import glob\n",
    "import os\n",
    "\n",
    "import csv\n",
    "\n",
    "plt.style.use('PictureStyle_v1.mplstyle')"
   ]
  },
  {
   "cell_type": "code",
   "execution_count": 31,
   "metadata": {},
   "outputs": [],
   "source": [
    "#path information common to all the code\n",
    "OrPath = '/data/users/berettam/DianaHallC/ThresholdScan_NoiseStudies_DownSample/'\n",
    "# # load the run db\n",
    "# rundata = pd.read_csv('H:/My Drive/2023_CCVRUSA_LSC/Analysis/RunList.csv')\n",
    "# Runs = rundata[rundata.Include==1].Run.to_numpy()\n",
    "# RunsDAQ = rundata[rundata.Include==1]['RunCrossDAQ'].to_numpy()\n",
    "# Runs = [500909]# Runs[np.argsort(RunsDAQ)]\n",
    "# Runs = [500904,500911,500915,500918]\n",
    "# Runs = [500923]\n",
    "Runs = [500904,500915,500918, 500939, 500941,  500943] \n",
    "# Runs = [500936,500939]#,500942,500943]\n",
    "# Runs = [500904,500909, 500911, 500913, 500915, 500918, 500923,500936,500939,500941,500942,500943]\n"
   ]
  },
  {
   "cell_type": "markdown",
   "metadata": {},
   "source": [
    "making plot directories"
   ]
  },
  {
   "cell_type": "code",
   "execution_count": 33,
   "metadata": {},
   "outputs": [],
   "source": [
    "for run in Runs:\n",
    "  if not os.path.isdir(f\"{OrPath}/Plots/Run{run}/\"):\n",
    "    os.mkdir(f\"{OrPath}/Plots/Run{run}/\") \n",
    "    os.mkdir(f\"{OrPath}/Plots/Run{run}/Integral/\") \n",
    "    os.mkdir(f\"{OrPath}/Plots/Run{run}/Differential/\") "
   ]
  },
  {
   "cell_type": "code",
   "execution_count": 34,
   "metadata": {},
   "outputs": [],
   "source": [
    "#channel names/ codes\n",
    "# detector mapping\n",
    "DetMap = pd.read_csv('/data/users/berettam/DianaHallC/ChannelMap.csv')\n",
    "\n",
    "Channels = DetMap.Channel.to_numpy()\n",
    "\n",
    "AvailChannels = [1,2,4,5,6,11,12,14,15,16,17,18]#[11,12,14,15,16,17,18]#[3,4,5,6,7,8,9,10,11,12,13,14,15,16,17,18,19,20]#Channels[2:-2]\n",
    "AvailLDs = [n for n in AvailChannels if DetMap.Sensor[DetMap.Channel==n].to_numpy()[0]==\"Light\" ]\n",
    "AvailHDs = [n for n in AvailChannels if DetMap.Sensor[DetMap.Channel==n].to_numpy()[0]==\"Heat\" ]\n"
   ]
  },
  {
   "attachments": {},
   "cell_type": "markdown",
   "metadata": {},
   "source": [
    "# get current THs from SB"
   ]
  },
  {
   "cell_type": "code",
   "execution_count": 35,
   "metadata": {},
   "outputs": [],
   "source": [
    "sb = {}\n",
    "sb[500904] = pd.read_csv('/data/users/berettam/DianaHallC/SettingsBaskets/sb261.csv').sort_values('id')\n",
    "sb[500909] = pd.read_csv('/data/users/berettam/DianaHallC/SettingsBaskets/sb261.csv').sort_values('id')\n",
    "sb[500911] = pd.read_csv('/data/users/berettam/DianaHallC/SettingsBaskets/sb261.csv').sort_values('id')\n",
    "sb[500913] = pd.read_csv('/data/users/berettam/DianaHallC/SettingsBaskets/sb261.csv').sort_values('id')\n",
    "sb[500915] = pd.read_csv('/data/users/berettam/DianaHallC/SettingsBaskets/sb261.csv').sort_values('id')\n",
    "sb[500918] = pd.read_csv('/data/users/berettam/DianaHallC/SettingsBaskets/sb261.csv').sort_values('id')\n",
    "sb[500923] = pd.read_csv('/data/users/berettam/DianaHallC/SettingsBaskets/sb263.csv').sort_values('id')\n",
    "sb[500936] = pd.read_csv('/data/users/berettam/DianaHallC/SettingsBaskets/sb266.csv').sort_values('id')\n",
    "sb[500939] = pd.read_csv('/data/users/berettam/DianaHallC/SettingsBaskets/sb269.csv').sort_values('id')\n",
    "sb[500941] = pd.read_csv('/data/users/berettam/DianaHallC/SettingsBaskets/sb269.csv').sort_values('id')\n",
    "sb[500942] = pd.read_csv('/data/users/berettam/DianaHallC/SettingsBaskets/sb269.csv').sort_values('id')\n",
    "sb[500943] = pd.read_csv('/data/users/berettam/DianaHallC/SettingsBaskets/sb269.csv').sort_values('id')"
   ]
  },
  {
   "attachments": {},
   "cell_type": "markdown",
   "metadata": {},
   "source": [
    "# Get Scans from TXT"
   ]
  },
  {
   "cell_type": "code",
   "execution_count": 45,
   "metadata": {},
   "outputs": [],
   "source": [
    "Averages = [4,6]#[4]#[6,7]#[20]#[5]#[4]#\n",
    "Debounce = [4,6]#[4]#[6, 7]#[10]#[5]#[4]#"
   ]
  },
  {
   "cell_type": "code",
   "execution_count": 46,
   "metadata": {},
   "outputs": [],
   "source": [
    "#list of files\n",
    "#reading and saving the output into a dataframe\n",
    "column_names = [\"Run\", \"Channel\", \"Average\", \"Debounce\", \"THs\", \"Rates\"]\n",
    "\n",
    "AllScans = pd.DataFrame(columns = column_names)\n",
    "\n",
    "#reading and saving the output into a dataframe\n",
    "for Avg in Averages:\n",
    "  for Deb in Debounce:\n",
    "    for run in Runs:\n",
    "      for ch in AvailChannels:#AvailHDs:#[18]: #AvailChannels:\n",
    "        \n",
    "        # file to be read    \n",
    "        f = OrPath+f'/Avg{Avg}/Deb{Deb}/run{run}/ScanTHs_run{run}_CH{ch}.txt'\n",
    "        \n",
    "        #read the scan\n",
    "        my_data = pd.read_csv(f)\n",
    "        ths = my_data.Threshold.to_numpy()\n",
    "        rate = my_data.Rate.to_numpy()\n",
    "        \n",
    "        #filling the df\n",
    "        el = [run,ch,Avg,Deb,ths,rate] \n",
    "        ss = pd.DataFrame([el],columns = column_names)\n",
    "        AllScans = pd.concat([AllScans, ss], ignore_index=True)\n",
    "        # AllScans = AllScans.append(ss)\n"
   ]
  },
  {
   "attachments": {},
   "cell_type": "markdown",
   "metadata": {},
   "source": [
    "# Draw the Rate vs Threshold plots\n",
    "comparing each channel on the different configurations"
   ]
  },
  {
   "cell_type": "code",
   "execution_count": 47,
   "metadata": {},
   "outputs": [],
   "source": [
    "cmap = plt.colormaps.get_cmap('jet')\n",
    "markers = np.array([*plt.Line2D.markers.keys()])[2:-4]"
   ]
  },
  {
   "cell_type": "code",
   "execution_count": 56,
   "metadata": {},
   "outputs": [],
   "source": [
    "for it,run in enumerate(Runs):\n",
    "  Thresholdfile =  open(f'/data/users/berettam/DianaHallC/vibes/src/dev/TriggerParameters/AutoTrigParams_WithHeatDetector_Run{run}.txt', 'w')\n",
    "  for ch in AvailChannels: # AvailHDs:#]AvailHDs: #[20]:# [10]:#\n",
    "    fig, ax = plt.subplots(1)  \n",
    "    # figD, axD = plt.subplots(1)  \n",
    "    #plot the current SB threshold\n",
    "    currth = sb[run][sb[run].id==ch]['deriv. trg threshold'].values[0]            \n",
    "    ax.axvline(currth,color = \"r\",label = 'Current TH')       \n",
    "    # axD.axvline(currth,color = \"r\",label = 'Current TH') \n",
    "    \n",
    "    if ch in AvailHDs:\n",
    "      AvgToSearch = [6]\n",
    "      DebToSearch = [6]\n",
    "    else:\n",
    "      AvgToSearch = [6]\n",
    "      DebToSearch = [6]\n",
    "\n",
    "    for navg ,Avg in enumerate(AvgToSearch):\n",
    "     for ndeb,Deb in enumerate(DebToSearch):\n",
    "    \n",
    "      selsp = np.logical_and.reduce((np.equal(AllScans.Run.to_numpy(),run), \n",
    "                                     np.equal(AllScans.Channel,ch) , \n",
    "                                     np.equal(AllScans.Debounce,Deb), \n",
    "                                     np.equal(AllScans.Average,Avg)))\n",
    "\n",
    "      if np.sum(selsp)>0:\n",
    "\n",
    "        ths = AllScans[selsp].THs.values[0]\n",
    "        rates = AllScans[selsp].Rates.values[0]\n",
    "\n",
    "        # print(f\"Run {run}, ch {ch}, max rate = {np.max(rates)}, min rate = {np.min(rates)}\")\n",
    "        SelTH = ths[np.min(np.argwhere(np.less(rates,1/10)))]\n",
    "        Thresholdfile.write(f\"{ch} {int(Avg)} {SelTH} {int(Deb)}\\n\")\n",
    "        #plot\n",
    "        # print(f\"{Deb}) {int((ndeb+1))} / {np.size(Debounce)}\")\n",
    "        ax.scatter(ths,rates,\n",
    "                   color = cmap(navg/np.size(Averages)),\n",
    "                   marker=markers[int((ndeb))],linestyle='',\n",
    "                              label=f\"Avg {Avg} Deb {Deb}\",s = 4)\n",
    "          \n",
    "        ax.axvline(SelTH,color = cmap(navg/np.size(Averages)),label = f'Selected TH = {SelTH:.2f}')\n",
    "        # axD.axvline(SelTH,color = cmap(navg/np.size(Averages)),label = 'Selected TH') \n",
    "\n",
    "        _,sel = np.unique(rates,return_index=True)\n",
    "        # axD.scatter(ths[sel][1:],np.diff(rates[sel]),\n",
    "        #            color = cmap(navg/np.size(Averages)),\n",
    "        #            marker=markers[int((ndeb+1)/np.size(Debounce))],linestyle='',\n",
    "        #                       label=f\"Avg {Avg} Deb {Deb}\",s = 4)\n",
    "\n",
    "        \n",
    "        \n",
    "        # ax.axvspan(currth, currth, facecolor='r', alpha=1,label = 'Current TH')\n",
    "    ax.set( yscale='log',\n",
    "            xscale='log',\n",
    "            xlabel = 'Threshold',\n",
    "            ylabel = 'Rate [Hz]',\n",
    "            title = f'Channel {ch} - Run {run}', # + CHNameMap[ch],\n",
    "            xlim = [np.min(ths),np.max(ths)])#np.max(freqs)])np.min(ths)\n",
    "    # axD.set(yscale='log',xlabel = 'Diff Threshold',\n",
    "    #         ylabel = 'Rate [Hz]',\n",
    "    #         title = f'Channel {ch} - Run {run}', # + CHNameMap[ch],\n",
    "    #         xlim = [np.min(ths),np.max(ths)])#np.max(freqs)])np.min(ths)\n",
    "    ax.legend(loc='lower left',prop={'size': 6})\n",
    "    # axD.legend(loc='lower left',prop={'size': 6})\n",
    "  \n",
    "    ax.figure.savefig(OrPath+f'/Plots/Run{run}/Integral/IntegralThresholdScan_Run{run}_CH{ch}.png',dpi=600) \n",
    "    # axD.figure.savefig(OrPath+f'/Plots/Run{run}/Differential/DifferentialThresholdScan_Run{run}_CH{ch}.png',dpi=600)  \n",
    "    plt.close(fig)\n",
    "    # plt.close(figD)\n",
    "  Thresholdfile.close()"
   ]
  },
  {
   "attachments": {},
   "cell_type": "markdown",
   "metadata": {},
   "source": [
    "Checkignt the db scan for CH 12"
   ]
  },
  {
   "cell_type": "code",
   "execution_count": 7,
   "metadata": {},
   "outputs": [],
   "source": [
    "Averages=[2,6,10,20,40,60]\n",
    "Debounces = [2,4,6,8,10]\n",
    "\n",
    "MarkerDebounce = {}\n",
    "MarkerDebounce[2] = 'o'\n",
    "MarkerDebounce[4] = '+'\n",
    "MarkerDebounce[6] = 'v'\n",
    "MarkerDebounce[8] = 's'\n",
    "MarkerDebounce[10] = '^'\n",
    "\n",
    "ColAvgs = {}\n",
    "ColAvgs[100] = 'tab:blue'\n",
    "ColAvgs[80] = 'tab:orange'\n",
    "ColAvgs[60] = 'tab:green'\n",
    "ColAvgs[40] = 'tab:red'\n",
    "ColAvgs[20] = 'tab:purple'\n",
    "ColAvgs[10] = 'tab:gray'\n",
    "ColAvgs[6] = 'tab:pink'\n",
    "ColAvgs[2] = 'turquoise'\n",
    "\n",
    "OrPathScan = 'H:/My Drive/2023_CCVRUSA_LSC/Analysis/ThresholdScan/TrigScan_MultiSpace/'"
   ]
  },
  {
   "cell_type": "code",
   "execution_count": 11,
   "metadata": {},
   "outputs": [],
   "source": [
    "column_names = [\"Run\", \"Channel\", \"THs\",\"Rates\",\"Average\",\"Debounce\"]\n",
    "\n",
    "AllScans = pd.DataFrame(columns = column_names)\n",
    "for ch in [12,14,16,18,20]:\n",
    "  for av in Averages:\n",
    "    for db in Debounces:\n",
    "      f = OrPathScan+f'Avg{av:.0f}/Deb{db:.0f}/run950035/ScanTHs_run950035_CH{ch}.txt'\n",
    "\n",
    "      #read the scan\n",
    "      my_data = pd.read_csv(f)\n",
    "      ths = my_data.Threshold.to_numpy()\n",
    "      rate = my_data.Rate.to_numpy()\n",
    "      \n",
    "      #filling the df\n",
    "      el = [950035,ch,ths,rate,av,db] \n",
    "      ss = pd.DataFrame([el],columns = column_names)\n",
    "      AllScans = AllScans.append(ss);"
   ]
  },
  {
   "cell_type": "code",
   "execution_count": 12,
   "metadata": {},
   "outputs": [],
   "source": [
    "plotsavg = {av: plt.subplots(1) for av in Averages}\n",
    "plotsdb = {db: plt.subplots(1) for db in Debounces}\n",
    "fig, ax = plt.subplots(1)  \n",
    "cmap = plt.cm.get_cmap('jet')\n",
    "ch = 14\n",
    "\n",
    "\n",
    "\n",
    "for av in Averages:\n",
    "  for db in Debounces:\n",
    "  \n",
    "    selsp = np.logical_and.reduce((np.equal(AllScans.Debounce.to_numpy(),db), \n",
    "                                   np.equal(AllScans.Average.to_numpy(),av), \n",
    "                                   np.equal(AllScans.Channel,ch)))\n",
    "\n",
    "    if np.sum(selsp)>0:\n",
    "      ths = AllScans[selsp].THs.values[0]\n",
    "      rates = AllScans[selsp].Rates.values[0]\n",
    "      #plot\n",
    "      ax.errorbar(ths*av,rates,yerr=0,xerr=0,color = ColAvgs[av],\n",
    "                            marker=MarkerDebounce[db], fmt = '',linestyle='',label=f\"Avg {av} - Deb {db} \",ms = 4)\n",
    "      plotsavg[av][0].axes[0].errorbar(ths*av,rates,yerr=0,xerr=0,color = ColAvgs[av],\n",
    "                            marker=MarkerDebounce[db], fmt = '',linestyle='',label=f\"Avg {av} - Deb {db} \",ms = 4)\n",
    "      plotsdb[db][0].axes[0].errorbar(ths*av,rates,yerr=0,xerr=0,color = ColAvgs[av],\n",
    "                            marker=MarkerDebounce[db], fmt = '',linestyle='',label=f\"Avg {av} - Deb {db} \",ms = 4)\n",
    "    \n",
    "    \n",
    "        \n",
    "ax.set( yscale='log',\n",
    "        xscale='log',\n",
    "        xlabel = 'Threshold',\n",
    "        ylabel = 'Rate [Hz]',\n",
    "        title = f'Channel {ch} ' + CHNameMap[ch])\n",
    "ax.legend(loc='best',prop={'size': 6})\n",
    "\n",
    "for av in plotsavg:\n",
    "  \n",
    "  plotsavg[av][0].axes[0].set( yscale='log',\n",
    "          xscale='log',\n",
    "          xlabel = 'Threshold',\n",
    "          ylabel = 'Rate [Hz]',\n",
    "          title = f'Channel {ch} ' + CHNameMap[ch])\n",
    "  plotsavg[av][0].axes[0].legend(loc='best',prop={'size': 6})\n",
    "for db in plotsdb:\n",
    "  \n",
    "  plotsdb[db][0].axes[0].set( yscale='log',\n",
    "          xscale='log',\n",
    "          xlabel = 'Threshold',\n",
    "          ylabel = 'Rate [Hz]',\n",
    "          title = f'Channel {ch} ' + CHNameMap[ch])\n",
    "  plotsdb[db][0].axes[0].legend(loc='best',prop={'size': 6})"
   ]
  },
  {
   "cell_type": "code",
   "execution_count": null,
   "metadata": {},
   "outputs": [],
   "source": []
  }
 ],
 "metadata": {
  "kernelspec": {
   "display_name": "Python 3.8.8 ('base')",
   "language": "python",
   "name": "python3"
  },
  "language_info": {
   "codemirror_mode": {
    "name": "ipython",
    "version": 3
   },
   "file_extension": ".py",
   "mimetype": "text/x-python",
   "name": "python",
   "nbconvert_exporter": "python",
   "pygments_lexer": "ipython3",
   "version": "3.8.3"
  },
  "orig_nbformat": 4,
  "vscode": {
   "interpreter": {
    "hash": "ad2bdc8ecc057115af97d19610ffacc2b4e99fae6737bb82f5d7fb13d2f2c186"
   }
  }
 },
 "nbformat": 4,
 "nbformat_minor": 2
}
